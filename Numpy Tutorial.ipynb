{
 "cells": [
  {
   "cell_type": "markdown",
   "metadata": {},
   "source": [
    "# <div style=\"text-align:center\"> <font color=#337ab7>NumPy </font></div>"
   ]
  },
  {
   "cell_type": "markdown",
   "metadata": {},
   "source": [
    "<div style=\"text-align : right\">Rahul Reddy Gajjada</div>"
   ]
  },
  {
   "cell_type": "markdown",
   "metadata": {},
   "source": [
    "## <span style=\"color:#337ab7\"> Starting with NumPy... </span>\n",
    "1. NumPy’s main object is the <span style=\"color:#337ab7\">homogeneous multidimensional array.</span>\n",
    "2. It is a table of elements (usually numbers), all of the same type, indexed by a tuple of positive integers. \n",
    "3. In NumPy dimensions are called <span style=\"color:#337ab7\">axes</span>."
   ]
  },
  {
   "cell_type": "markdown",
   "metadata": {},
   "source": [
    "### <span style=\"color:#337ab7\">Example:</span>"
   ]
  },
  {
   "cell_type": "code",
   "execution_count": 151,
   "metadata": {
    "collapsed": false
   },
   "outputs": [
    {
     "data": {
      "text/plain": [
       "[[1.0, 0.0, 0.0], [0.0, 1.0, 2.0]]"
      ]
     },
     "execution_count": 151,
     "metadata": {},
     "output_type": "execute_result"
    }
   ],
   "source": [
    "[[ 1., 0., 0.], \n",
    " [ 0., 1., 2.]]"
   ]
  },
  {
   "cell_type": "markdown",
   "metadata": {},
   "source": [
    " \n",
    "The above array has 2 axes. <br/>\n",
    "Guess the length of each axis !"
   ]
  },
  {
   "cell_type": "markdown",
   "metadata": {},
   "source": [
    "NumPy’s array class is called <span style=\"color:#337ab7\">__ndarray__</span>. It is also known by the alias <span style=\"color:#337ab7\">__array__</span>. <br/>Note that numpy.array is not the same as the Standard Python Library class array.array, which only handles one-dimensional arrays and offers less functionality. "
   ]
  },
  {
   "cell_type": "markdown",
   "metadata": {},
   "source": [
    "###  <span style=\"color:#337ab7\">The important attributes of an ndarray object are:</span>"
   ]
  },
  {
   "cell_type": "markdown",
   "metadata": {},
   "source": [
    "<span style=\"color:#337ab7\"><b>ndarray.ndim : </b></span><br>\n",
    "    the number of axes (dimensions) of the array.<br/>\n",
    "<span style=\"color:#337ab7\"><b>ndarray.shape :</b></span><br> \n",
    "the dimensions of the array. <br/>This is a tuple of integers indicating the size of the array in each dimension. For a matrix with n rows and m columns, shape will be (n,m). <br/>\n",
    "<span style=\"color:#337ab7\"><b>ndarray.size : </b></span><br/>\n",
    " the total number of elements of the array. This is equal to the product of the elements of shape.<br/>\n",
    "<span style=\"color:#337ab7\"><b>ndarray.dtype : </b></span><br/>\n",
    "an object describing the type of the elements in the array. One can create or specify dtype’s using standard Python types.<br/> Additionally NumPy provides types of its own. numpy.int32, numpy.int16, and numpy.float64 are some examples. <br/>\n",
    "<span style=\"color:#337ab7\"><b>ndarray.itemsize :</b></span><br/>\n",
    "the size in bytes of each element of the array. For example, an array of elements of type float64 has itemsize 8 (=64/8), while one of type complex32 has itemsize 4 (=32/8). It is equivalent to <i>ndarray.dtype.itemsize</i>.<br/>\n",
    "<span style=\"color:#337ab7\"><b>ndarray.data : </b></span><br/>\n",
    "the buffer containing the actual elements of the array.<br/>"
   ]
  },
  {
   "cell_type": "markdown",
   "metadata": {},
   "source": [
    "### <span style=\"color:#337ab7\">Example</span>"
   ]
  },
  {
   "cell_type": "code",
   "execution_count": 1,
   "metadata": {
    "collapsed": false
   },
   "outputs": [
    {
     "name": "stdout",
     "output_type": "stream",
     "text": [
      "[[ 0  1  2  3  4]\n",
      " [ 5  6  7  8  9]\n",
      " [10 11 12 13 14]]\n"
     ]
    },
    {
     "data": {
      "text/plain": [
       "array([[ 0,  1,  2,  3,  4],\n",
       "       [ 5,  6,  7,  8,  9],\n",
       "       [10, 11, 12, 13, 14]])"
      ]
     },
     "execution_count": 1,
     "metadata": {},
     "output_type": "execute_result"
    }
   ],
   "source": [
    "import numpy as np\n",
    "\n",
    "a = np.arange(15).reshape(3,5)\n",
    "print(a)\n",
    "a"
   ]
  },
  {
   "cell_type": "code",
   "execution_count": 2,
   "metadata": {
    "collapsed": false
   },
   "outputs": [
    {
     "name": "stdout",
     "output_type": "stream",
     "text": [
      "(3, 5)\n",
      "2\n",
      "int32\n",
      "4\n",
      "15\n",
      "<class 'numpy.ndarray'>\n"
     ]
    }
   ],
   "source": [
    "print(a.shape)\n",
    "print(a.ndim)\n",
    "print(a.dtype)\n",
    "print(a.itemsize)\n",
    "print(a.size)\n",
    "print(type(a))"
   ]
  },
  {
   "cell_type": "code",
   "execution_count": 4,
   "metadata": {
    "collapsed": false
   },
   "outputs": [
    {
     "name": "stdout",
     "output_type": "stream",
     "text": [
      "<class 'numpy.ndarray'> float64\n"
     ]
    },
    {
     "data": {
      "text/plain": [
       "array([10. , 20.5, 30. ])"
      ]
     },
     "execution_count": 4,
     "metadata": {},
     "output_type": "execute_result"
    }
   ],
   "source": [
    "b = np.array([10,20.5,30])\n",
    "print(type(b), b.dtype)\n",
    "b"
   ]
  },
  {
   "cell_type": "code",
   "execution_count": 5,
   "metadata": {
    "collapsed": false
   },
   "outputs": [
    {
     "ename": "ValueError",
     "evalue": "only 2 non-keyword arguments accepted",
     "output_type": "error",
     "traceback": [
      "\u001b[0;31m---------------------------------------------------------------------------\u001b[0m",
      "\u001b[0;31mValueError\u001b[0m                                Traceback (most recent call last)",
      "\u001b[0;32m<ipython-input-5-c6e42deb247f>\u001b[0m in \u001b[0;36m<module>\u001b[0;34m()\u001b[0m\n\u001b[0;32m----> 1\u001b[0;31m \u001b[0ma\u001b[0m \u001b[1;33m=\u001b[0m \u001b[0mnp\u001b[0m\u001b[1;33m.\u001b[0m\u001b[0marray\u001b[0m\u001b[1;33m(\u001b[0m\u001b[1;36m1\u001b[0m\u001b[1;33m,\u001b[0m\u001b[1;36m2\u001b[0m\u001b[1;33m,\u001b[0m\u001b[1;36m3\u001b[0m\u001b[1;33m,\u001b[0m\u001b[1;36m4\u001b[0m\u001b[1;33m)\u001b[0m    \u001b[1;31m# WRONG\u001b[0m\u001b[1;33m\u001b[0m\u001b[0m\n\u001b[0m",
      "\u001b[0;31mValueError\u001b[0m: only 2 non-keyword arguments accepted"
     ]
    }
   ],
   "source": [
    "a = np.array(1,2,3,4)    # WRONG "
   ]
  },
  {
   "cell_type": "markdown",
   "metadata": {},
   "source": [
    "<span style=\"color:#337ab7\"><b>array</b></span> transforms sequences of sequences into two-dimensional arrays, sequences of sequences of sequences into three-dimensional arrays, and so on."
   ]
  },
  {
   "cell_type": "code",
   "execution_count": 6,
   "metadata": {
    "collapsed": false
   },
   "outputs": [
    {
     "data": {
      "text/plain": [
       "array([[1.5, 2. , 3. ],\n",
       "       [4. , 5. , 6. ]])"
      ]
     },
     "execution_count": 6,
     "metadata": {},
     "output_type": "execute_result"
    }
   ],
   "source": [
    "np.array([(1.5,2,3), (4,5,6)])"
   ]
  },
  {
   "cell_type": "code",
   "execution_count": 7,
   "metadata": {
    "collapsed": false
   },
   "outputs": [
    {
     "data": {
      "text/plain": [
       "array([[1.+0.j, 2.+0.j],\n",
       "       [3.+0.j, 4.+0.j]])"
      ]
     },
     "execution_count": 7,
     "metadata": {},
     "output_type": "execute_result"
    }
   ],
   "source": [
    "#The type of array can be explicitly specified\n",
    "np.array( [ [1,2], [3,4] ], dtype=complex )"
   ]
  },
  {
   "cell_type": "markdown",
   "metadata": {},
   "source": [
    "## <span style=\"color:#337ab7\">Zeros, ones and empty</span>\n",
    "The function <span style=\"color:#337ab7\">zeros</span> creates an array full of zeros, the function <span style=\"color:#337ab7\">ones</span> creates an array full of ones, and the function <span style=\"color:#337ab7\">empty</span> creates an array whose initial content is random and depends on the state of the memory. <br>By default, the dtype of the created array is <span style=\"color:#337ab7\">float64</span>."
   ]
  },
  {
   "cell_type": "code",
   "execution_count": 8,
   "metadata": {
    "collapsed": false
   },
   "outputs": [
    {
     "name": "stdout",
     "output_type": "stream",
     "text": [
      "[[0. 0. 0. 0.]\n",
      " [0. 0. 0. 0.]\n",
      " [0. 0. 0. 0.]]\n",
      "-------------\n",
      "[[1 1 1]\n",
      " [1 1 1]]\n",
      "-------------\n",
      "[[3.56195639e-318 2.88462678e-316 6.45707041e-317]\n",
      " [7.38081546e-315 7.38081546e-315 4.83818487e-316]\n",
      " [4.83819001e-316 4.83819515e-316 4.34584738e-311]]\n"
     ]
    }
   ],
   "source": [
    "print(np.zeros((3,4)))\n",
    "print('-------------')\n",
    "print(np.ones((2,3), dtype=np.int16))\n",
    "print('-------------')\n",
    "print(np.empty((3,3))) # As uninitialized, the output may vary"
   ]
  },
  {
   "cell_type": "markdown",
   "metadata": {},
   "source": [
    "### <span style=\"color:#337ab7\">Linspace</span>\n",
    "Return evenly spaced numbers over a specified interval"
   ]
  },
  {
   "cell_type": "code",
   "execution_count": 9,
   "metadata": {
    "collapsed": false
   },
   "outputs": [
    {
     "data": {
      "text/plain": [
       "array([0. , 0.3, 0.6, 0.9, 1.2, 1.5, 1.8])"
      ]
     },
     "execution_count": 9,
     "metadata": {},
     "output_type": "execute_result"
    }
   ],
   "source": [
    "np.arange( 0, 2, 0.3 ) "
   ]
  },
  {
   "cell_type": "code",
   "execution_count": 10,
   "metadata": {
    "collapsed": false
   },
   "outputs": [
    {
     "data": {
      "text/plain": [
       "array([0.  , 0.25, 0.5 , 0.75, 1.  , 1.25, 1.5 , 1.75, 2.  ])"
      ]
     },
     "execution_count": 10,
     "metadata": {},
     "output_type": "execute_result"
    }
   ],
   "source": [
    "np.linspace( 0, 2, 9 )"
   ]
  },
  {
   "cell_type": "code",
   "execution_count": 20,
   "metadata": {
    "collapsed": false
   },
   "outputs": [
    {
     "name": "stdout",
     "output_type": "stream",
     "text": [
      "[0.06342392 0.12659245 0.18925124 0.25114799 0.31203345 0.37166246\n",
      " 0.42979491 0.48619674 0.54064082 0.59290793 0.64278761 0.69007901\n",
      " 0.73459171 0.77614646 0.81457595 0.84972543 0.88145336 0.909632\n",
      " 0.93414786]\n"
     ]
    }
   ],
   "source": [
    "# Linspace can be used to evaluate a function with lots of datapoints\n",
    "from numpy import pi\n",
    "x = np.linspace( 0, 2*pi, 100 )\n",
    "f = np.sin(x)\n",
    "print(f[1:20])"
   ]
  },
  {
   "cell_type": "markdown",
   "metadata": {},
   "source": [
    "## <span style=\"color:#337ab7\">Basic Operations</span>\n",
    "Arithmetic operators on arrays apply elementwise. A new array is created and filled with the result."
   ]
  },
  {
   "cell_type": "code",
   "execution_count": 12,
   "metadata": {
    "collapsed": false
   },
   "outputs": [
    {
     "name": "stdout",
     "output_type": "stream",
     "text": [
      "Subtraction :  [20 29 38 47]\n",
      "Exponential :  [0 1 4 9]\n",
      "Sin operation :  [ 9.12945251 -9.88031624  7.4511316  -2.62374854]\n",
      "[ True  True False False]\n"
     ]
    }
   ],
   "source": [
    "a = np.array( [20,30,40,50] )\n",
    "b = np.arange( 4 )  #b = [0, 1, 2, 3]\n",
    "\n",
    "c = a-b\n",
    "print(\"Subtraction : \" ,c)\n",
    "\n",
    "print(\"Exponential : \", b**2)\n",
    "\n",
    "print(\"Sin operation : \", 10*np.sin(a))\n",
    "\n",
    "print(a<35)"
   ]
  },
  {
   "cell_type": "markdown",
   "metadata": {},
   "source": [
    "The product operator <span style=\"color:#337ab7\">*</span> operates <span style=\"color:#337ab7\">elementwise</span> in NumPy arrays. <br> \n",
    "The matrix product can be performed using the<span style=\"color:#337ab7\">@</span> operator (in python >=3.5) or the <span style=\"color:#337ab7\">dot</span> function or method:"
   ]
  },
  {
   "cell_type": "code",
   "execution_count": 13,
   "metadata": {
    "collapsed": false
   },
   "outputs": [
    {
     "name": "stdout",
     "output_type": "stream",
     "text": [
      "[[2 0]\n",
      " [0 4]]\n",
      "========\n",
      "[[5 4]\n",
      " [3 4]]\n",
      "========\n",
      "[[5 4]\n",
      " [3 4]]\n"
     ]
    }
   ],
   "source": [
    "A = np.array( [[1,1], [0,1]] )\n",
    "B = np.array( [[2,0], [3,4]] )\n",
    "\n",
    "# Element wise product\n",
    "print(A * B ) \n",
    "print(\"========\")\n",
    "\n",
    "# Matrix Product\n",
    "print(A @ B)\n",
    "print(\"========\")\n",
    "\n",
    "#Matrix Product using dot function \n",
    "print(A.dot(B))\n"
   ]
  },
  {
   "cell_type": "markdown",
   "metadata": {},
   "source": [
    "Some operations, such as += and *=, act in place to modify an existing array rather than create a new one."
   ]
  },
  {
   "cell_type": "code",
   "execution_count": 14,
   "metadata": {
    "collapsed": false
   },
   "outputs": [
    {
     "name": "stdout",
     "output_type": "stream",
     "text": [
      "[[1 1 1]\n",
      " [1 1 1]]\n",
      "[[0.14145349 0.04908612 0.42551686]\n",
      " [0.64158204 0.86440521 0.12566562]]\n",
      "[[3 3 3]\n",
      " [3 3 3]]\n",
      "[[3.14145349 3.04908612 3.42551686]\n",
      " [3.64158204 3.86440521 3.12566562]]\n"
     ]
    }
   ],
   "source": [
    "a = np.ones((2,3), dtype=int)\n",
    "b = np.random.random((2,3))\n",
    "print(a)\n",
    "print(b)\n",
    "a *= 3\n",
    "print(a)\n",
    "b += a\n",
    "print(b)"
   ]
  },
  {
   "cell_type": "markdown",
   "metadata": {},
   "source": [
    "When operating with arrays of different types, the type of the resulting array corresponds to the more general or precise one (a behavior known as upcasting)."
   ]
  },
  {
   "cell_type": "code",
   "execution_count": 15,
   "metadata": {
    "collapsed": false
   },
   "outputs": [
    {
     "name": "stdout",
     "output_type": "stream",
     "text": [
      "dtype of a : int32\n",
      "dtype of b : float64\n",
      "[1.         2.57079633 4.14159265]\n",
      "dtype of c : float64\n",
      "[ 0.54030231+0.84147098j -0.84147098+0.54030231j -0.54030231-0.84147098j]\n",
      "dtype of d : complex128\n"
     ]
    }
   ],
   "source": [
    "a = np.ones(3, dtype=np.int32)\n",
    "b = np.linspace(0,pi,3)\n",
    "print(\"dtype of a :\", a.dtype.name)\n",
    "print(\"dtype of b :\", b.dtype.name)\n",
    "c = a+b\n",
    "print(c)\n",
    "print(\"dtype of c :\", c.dtype.name)\n",
    "\n",
    "d = np.exp(c*1j)\n",
    "print(d)\n",
    "print(\"dtype of d :\",d.dtype.name)\n"
   ]
  },
  {
   "cell_type": "markdown",
   "metadata": {},
   "source": [
    "Many unary operations, such as computing the sum of all the elements in the array, are implemented as methods of the ndarray class."
   ]
  },
  {
   "cell_type": "code",
   "execution_count": 16,
   "metadata": {
    "collapsed": false
   },
   "outputs": [
    {
     "name": "stdout",
     "output_type": "stream",
     "text": [
      "[[0.97188922 0.95581759 0.88274412]\n",
      " [0.36705603 0.13782805 0.99554263]]\n",
      "Sum :  4.310877650387778\n",
      "Min :  0.1378280531222147\n",
      "Max :  0.9955426347966528\n"
     ]
    }
   ],
   "source": [
    "a = np.random.random((2,3))\n",
    "print(a)\n",
    "print(\"Sum : \", a.sum())\n",
    "print(\"Min : \", a.min())\n",
    "print(\"Max : \", a.max())\n"
   ]
  },
  {
   "cell_type": "markdown",
   "metadata": {},
   "source": [
    "By default, these operations apply to the array as though it were a list of numbers, regardless of its shape. \n",
    "However, by specifying the <span style=\"color:#337ab7\">axis</span> parameter you can apply an operation along the specified axis of an array:"
   ]
  },
  {
   "cell_type": "code",
   "execution_count": 17,
   "metadata": {
    "collapsed": false
   },
   "outputs": [
    {
     "name": "stdout",
     "output_type": "stream",
     "text": [
      "[[ 0  1  2  3]\n",
      " [ 4  5  6  7]\n",
      " [ 8  9 10 11]]\n",
      "Sum :  [12 15 18 21]\n",
      "Min :  [0 4 8]\n",
      "CumSum : \n",
      "[[ 0  1  3  6]\n",
      " [ 4  9 15 22]\n",
      " [ 8 17 27 38]]\n"
     ]
    }
   ],
   "source": [
    "b = np.arange(12).reshape(3,4)\n",
    "print(b)\n",
    "\n",
    "print(\"Sum : \",b.sum(axis=0))  # Sum of each column\n",
    "\n",
    "print(\"Min : \",b.min(axis=1))  # Min of each column\n",
    "\n",
    "print(\"CumSum : \") ;print(b.cumsum(axis=1))  # cumulative sum along each row\n"
   ]
  },
  {
   "cell_type": "markdown",
   "metadata": {},
   "source": [
    "## <span style=\"color:#337ab7\">Universal Functions</span>"
   ]
  },
  {
   "cell_type": "markdown",
   "metadata": {
    "collapsed": true
   },
   "source": [
    "NumPy provides familiar mathematical functions such as sin, cos, and exp. <br>\n",
    "In NumPy, these are called <span style=\"color:#337ab7\">“universal functions”(ufunc)</span>. <br>\n",
    "Within NumPy, these functions operate elementwise on an array, producing an array as output."
   ]
  },
  {
   "cell_type": "code",
   "execution_count": 28,
   "metadata": {
    "collapsed": false
   },
   "outputs": [
    {
     "name": "stdout",
     "output_type": "stream",
     "text": [
      "B:  [0 1 2]\n",
      "Exp:  [1.         2.71828183 7.3890561 ]\n",
      "Sqrt : [0.         1.         1.41421356]\n",
      "Add:  [2. 0. 6.]\n"
     ]
    }
   ],
   "source": [
    "B = np.arange(3)\n",
    "print(\"B: \",B)\n",
    "print(\"Exp: \",np.exp(B))\n",
    "print(\"Sqrt :\",np.sqrt(B))\n",
    "C = np.array([2., -1., 4.])\n",
    "print(\"Add: \",np.add(B, C))"
   ]
  },
  {
   "cell_type": "markdown",
   "metadata": {},
   "source": [
    "## <span style=\"color:#337ab7\">Indexing, Slicing and Iterating</span>"
   ]
  },
  {
   "cell_type": "markdown",
   "metadata": {},
   "source": [
    "One-dimensional arrays can be indexed, sliced and iterated over, much like lists and other Python sequences."
   ]
  },
  {
   "cell_type": "code",
   "execution_count": 43,
   "metadata": {
    "collapsed": false
   },
   "outputs": [
    {
     "name": "stdout",
     "output_type": "stream",
     "text": [
      "[  0   1   8  27  64 125 216 343 512 729]\n",
      "8\n",
      "[  8  27  64 125]\n",
      "[-100    1 -100   27 -100  125  216  343  512  729]\n",
      "[ 729  512  343  216  125 -100   27 -100    1 -100]\n",
      "nan\n",
      "1.0\n",
      "nan\n",
      "5.196152422706632\n",
      "nan\n",
      "11.180339887498949\n",
      "14.696938456699069\n",
      "18.520259177452132\n",
      "22.627416997969522\n",
      "27.0\n"
     ]
    },
    {
     "name": "stderr",
     "output_type": "stream",
     "text": [
      "C:\\Users\\sairam\\Anaconda3\\lib\\site-packages\\ipykernel\\__main__.py:10: RuntimeWarning: invalid value encountered in power\n"
     ]
    }
   ],
   "source": [
    "a = np.arange(10)**3\n",
    "print(a)\n",
    "print(a[2])\n",
    "print(a[2:6])\n",
    "a[:6:2] = -100    # equivalent to a[0:6:2] from start to position 6, exclusive, set every 2nd element to -100\n",
    "print(a)\n",
    "print(a[ : :-1] )\n",
    "# Iterating using a for loop\n",
    "for i in a:\n",
    "    print(i**(1/2))"
   ]
  },
  {
   "cell_type": "markdown",
   "metadata": {},
   "source": [
    "Multidimensional arrays can have one index per axis. These indices are given in a tuple separated by commas:"
   ]
  },
  {
   "cell_type": "code",
   "execution_count": 58,
   "metadata": {
    "collapsed": false
   },
   "outputs": [
    {
     "name": "stdout",
     "output_type": "stream",
     "text": [
      "-------------- \n",
      "[[ 0  1  2  3]\n",
      " [ 4  5  6  7]\n",
      " [ 8  9 10 11]\n",
      " [12 13 14 15]\n",
      " [16 17 18 19]]\n",
      "-------------- \n",
      "11\n",
      "-------------- \n",
      "[ 1  5  9 13 17]\n",
      "-------------- \n",
      "[ 1  5  9 13 17]\n",
      "-------------- \n",
      "[[ 4  5  6  7]\n",
      " [ 8  9 10 11]]\n"
     ]
    }
   ],
   "source": [
    "B = np.arange(20).reshape(5,4)\n",
    "print(\"-------------- \")\n",
    "print(B)\n",
    "print(\"-------------- \")\n",
    "print(B[2,3])\n",
    "print(\"-------------- \")\n",
    "print(B[0:5, 1])    # each row in the second column of B\n",
    "print(\"-------------- \")\n",
    "print(B[ : ,1] )    # equivalent to the previous example\n",
    "print(\"-------------- \")\n",
    "print(b[1:3, : ])   # each column in the second and third row of B"
   ]
  },
  {
   "cell_type": "markdown",
   "metadata": {},
   "source": [
    "When fewer indices are provided than the number of axes, the missing indices are considered complete slices:"
   ]
  },
  {
   "cell_type": "code",
   "execution_count": 61,
   "metadata": {
    "collapsed": false
   },
   "outputs": [
    {
     "name": "stdout",
     "output_type": "stream",
     "text": [
      "[ 8  9 10 11]\n"
     ]
    }
   ],
   "source": [
    "print(b[-1])  # the last row. Equivalent to b[-1,:]"
   ]
  },
  {
   "cell_type": "markdown",
   "metadata": {},
   "source": [
    "The expression within brackets in <b>b[i]</b> is treated as an <b>i</b> followed by as many instances of <b>:</b> as needed to represent the remaining axes. <br>\n",
    "NumPy also allows you to write this using dots as <b>b[i,...]</b>.\n",
    "\n",
    "The <b>dots (...) </b>represent as many colons as needed to produce a complete indexing tuple. <br>\n",
    "For example, if x is an array with 5 axes, then\n",
    "\n",
    "x[1,2,...] is equivalent to x[1,2,:,:,:],<br>\n",
    "x[...,3] to x[:,:,:,:,3] and <br>\n",
    "x[4,...,5,:] to x[4,:,:,5,:]."
   ]
  },
  {
   "cell_type": "code",
   "execution_count": 67,
   "metadata": {
    "collapsed": false
   },
   "outputs": [
    {
     "name": "stdout",
     "output_type": "stream",
     "text": [
      "[[[  0   1   2]\n",
      "  [ 10  12  13]]\n",
      "\n",
      " [[100 101 102]\n",
      "  [110 112 113]]]\n",
      "--------\n",
      "[[100 101 102]\n",
      " [110 112 113]]\n",
      "--------\n",
      "[[  2  13]\n",
      " [102 113]]\n"
     ]
    }
   ],
   "source": [
    "c = np.array( [[[  0,  1,  2],               # a 3D array (two stacked 2D arrays)\n",
    "                [ 10, 12, 13]],\n",
    "               [[100,101,102],\n",
    "                [110,112,113]]])\n",
    "print(c)\n",
    "print(\"--------\")\n",
    "print(c[1,...])   # same as c[1,:,:] or c[1]\n",
    "print(\"--------\")\n",
    "print(c[...,2])   # same as c[:,:,2]"
   ]
  },
  {
   "cell_type": "markdown",
   "metadata": {},
   "source": [
    "Iterating over multidimensional arrays is done with respect to the first axis:"
   ]
  },
  {
   "cell_type": "code",
   "execution_count": 69,
   "metadata": {
    "collapsed": false
   },
   "outputs": [
    {
     "name": "stdout",
     "output_type": "stream",
     "text": [
      "[0 1 2 3]\n",
      "[4 5 6 7]\n",
      "[ 8  9 10 11]\n",
      "[12 13 14 15]\n",
      "[16 17 18 19]\n"
     ]
    }
   ],
   "source": [
    "b = np.arange(20).reshape(5,4)\n",
    "for row in b:\n",
    "    print(row)"
   ]
  },
  {
   "cell_type": "markdown",
   "metadata": {},
   "source": [
    "However, if one wants to perform an operation on each element in the array, one can use the <b>flat</b> \n",
    "attribute <br>which is an iterator over all the elements of the array:"
   ]
  },
  {
   "cell_type": "code",
   "execution_count": 71,
   "metadata": {
    "collapsed": false
   },
   "outputs": [
    {
     "name": "stdout",
     "output_type": "stream",
     "text": [
      "0\n",
      "1\n",
      "2\n",
      "3\n",
      "4\n",
      "5\n",
      "6\n",
      "7\n",
      "8\n",
      "9\n"
     ]
    }
   ],
   "source": [
    "b = np.arange(10).reshape(5,2)\n",
    "for element in b.flat:\n",
    "    print(element)"
   ]
  },
  {
   "cell_type": "markdown",
   "metadata": {},
   "source": [
    "## <span style=\"color:#337ab7\">Shape Manipulation</span>\n",
    "An array has a shape given by the number of elements along each axis:"
   ]
  },
  {
   "cell_type": "code",
   "execution_count": 72,
   "metadata": {
    "collapsed": false
   },
   "outputs": [
    {
     "name": "stdout",
     "output_type": "stream",
     "text": [
      "[[8. 2. 7. 8.]\n",
      " [3. 9. 4. 6.]\n",
      " [7. 7. 5. 2.]]\n",
      "Shape :  (3, 4)\n"
     ]
    }
   ],
   "source": [
    "a = np.floor(10*np.random.random((3,4)))\n",
    "print(a)\n",
    "print(\"Shape : \", a.shape)"
   ]
  },
  {
   "cell_type": "markdown",
   "metadata": {},
   "source": [
    "The shape of an array can be changed with various commands. <br>\n",
    "Note that the following three commands all return a <b>modified array</b>, but do not change the original array:"
   ]
  },
  {
   "cell_type": "code",
   "execution_count": 78,
   "metadata": {
    "collapsed": false
   },
   "outputs": [
    {
     "name": "stdout",
     "output_type": "stream",
     "text": [
      "[[6. 5. 3. 9.]\n",
      " [6. 6. 5. 0.]\n",
      " [3. 4. 3. 1.]]\n",
      "------------\n",
      "(3, 4)\n",
      "------------\n",
      "[6. 5. 3. 9. 6. 6. 5. 0. 3. 4. 3. 1.]\n",
      "------------\n",
      "[[6. 5.]\n",
      " [3. 9.]\n",
      " [6. 6.]\n",
      " [5. 0.]\n",
      " [3. 4.]\n",
      " [3. 1.]]\n",
      "------------\n",
      "[[6. 6. 3.]\n",
      " [5. 6. 4.]\n",
      " [3. 5. 3.]\n",
      " [9. 0. 1.]]\n",
      "------------\n",
      "(4, 3)\n"
     ]
    }
   ],
   "source": [
    "a = np.floor(10*np.random.random((3,4)))\n",
    "print(a);print(\"------------\")\n",
    "print(a.shape)\n",
    "print(\"------------\")\n",
    "print(a.ravel())       # returns the array, flattened\n",
    "print(\"------------\")\n",
    "print(a.reshape(6,2))  # returns the array with a modified shape\n",
    "print(\"------------\")\n",
    "print(a.T)             # returns the array, transposed\n",
    "print(\"------------\")\n",
    "print(a.T.shape)"
   ]
  },
  {
   "cell_type": "markdown",
   "metadata": {},
   "source": [
    "The <span style=\"color:#337ab7\">reshape</span> function returns its argument with a modified shape, whereas the <span style=\"color:#337ab7\">ndarray.resize </span> method modifies the array itself:"
   ]
  },
  {
   "cell_type": "code",
   "execution_count": 89,
   "metadata": {
    "collapsed": false
   },
   "outputs": [
    {
     "name": "stdout",
     "output_type": "stream",
     "text": [
      "[[2. 8. 0. 6.]\n",
      " [4. 5. 1. 1.]\n",
      " [8. 9. 3. 6.]]\n",
      "-----------------\n",
      "[[2. 8. 0. 6. 4. 5.]\n",
      " [1. 1. 8. 9. 3. 6.]]\n"
     ]
    }
   ],
   "source": [
    "a = np.array([[ 2.,  8.,  0.,  6.],[ 4.,  5.,  1.,  1.],[ 8.,  9.,  3.,  6.]])\n",
    "print(a)\n",
    "print(\"-----------------\")\n",
    "a.resize((2,6))\n",
    "print(a)"
   ]
  },
  {
   "cell_type": "markdown",
   "metadata": {},
   "source": [
    "If a dimension is given as -1 in a reshaping operation, the other dimensions are automatically calculated:"
   ]
  },
  {
   "cell_type": "code",
   "execution_count": 95,
   "metadata": {
    "collapsed": false
   },
   "outputs": [
    {
     "name": "stdout",
     "output_type": "stream",
     "text": [
      "[[2. 8. 0. 6.]\n",
      " [4. 5. 1. 1.]\n",
      " [8. 9. 3. 6.]]\n",
      "-----------------\n",
      "[[2. 8. 0. 6. 4. 5.]\n",
      " [1. 1. 8. 9. 3. 6.]]\n"
     ]
    }
   ],
   "source": [
    "a = np.array([[ 2.,  8.,  0.,  6.],[ 4.,  5.,  1.,  1.],[ 8.,  9.,  3.,  6.]])\n",
    "print(a)\n",
    "print(\"-----------------\")\n",
    "print(a.reshape(2,-1))"
   ]
  },
  {
   "cell_type": "code",
   "execution_count": null,
   "metadata": {
    "collapsed": false
   },
   "outputs": [],
   "source": [
    "#random module of numpy is used to generate various random sequences.\n",
    "#randn is used to simulate standard normal distribution.\n",
    "#loadtxt is used to read data from a text file or any input data stream."
   ]
  },
  {
   "cell_type": "markdown",
   "metadata": {
    "collapsed": false
   },
   "source": [
    "## <span style=\"color:#337ab7\">Stacking and splitting different arrays</span>"
   ]
  },
  {
   "cell_type": "markdown",
   "metadata": {},
   "source": [
    "* Two or more arrays can be joined vertically using the generic vstack method.\n",
    "* Two or more arrays can be joined horizontally using the generic hstack method.\n",
    "* Arrays can be split vertically using the generic vsplit method\n",
    "* Arrays can be split horizontally using the generic hsplit method.\n"
   ]
  },
  {
   "cell_type": "code",
   "execution_count": 117,
   "metadata": {
    "collapsed": false
   },
   "outputs": [
    {
     "name": "stdout",
     "output_type": "stream",
     "text": [
      "[[1. 9.]\n",
      " [6. 6.]]\n",
      "------------\n",
      "[[1. 0.]\n",
      " [0. 1.]]\n",
      "------------\n",
      "[[1. 9.]\n",
      " [6. 6.]\n",
      " [1. 0.]\n",
      " [0. 1.]]\n",
      "------------\n",
      "[[1. 9. 1. 0.]\n",
      " [6. 6. 0. 1.]]\n"
     ]
    }
   ],
   "source": [
    "#random module of numpy is used to generate various random sequences.\n",
    "\n",
    "a = np.floor(10*np.random.random((2,2)))\n",
    "b = np.eye(2)\n",
    "print(a)\n",
    "print(\"------------\")\n",
    "print(b)\n",
    "print(\"------------\")\n",
    "c = np.vstack((a,b))\n",
    "print(c)\n",
    "print(\"------------\")\n",
    "d = np.hstack((a,b))\n",
    "print(d)"
   ]
  },
  {
   "cell_type": "code",
   "execution_count": 123,
   "metadata": {
    "collapsed": false
   },
   "outputs": [
    {
     "name": "stdout",
     "output_type": "stream",
     "text": [
      "[[6. 3. 9. 2. 1. 2. 7. 7. 6. 6. 7. 5.]\n",
      " [6. 4. 5. 6. 8. 6. 5. 2. 1. 7. 6. 5.]]\n",
      "------------\n",
      "[array([[6., 3., 9., 2.],\n",
      "       [6., 4., 5., 6.]]), array([[1., 2., 7., 7.],\n",
      "       [8., 6., 5., 2.]]), array([[6., 6., 7., 5.],\n",
      "       [1., 7., 6., 5.]])]\n",
      "------------\n",
      "[array([[6., 3., 9.],\n",
      "       [6., 4., 5.]]), array([[2., 1., 2.],\n",
      "       [6., 8., 6.]]), array([[7., 7., 6., 6., 7., 5.],\n",
      "       [5., 2., 1., 7., 6., 5.]])]\n"
     ]
    }
   ],
   "source": [
    "#Splitting\n",
    "a = np.floor(10*np.random.random((2,12)))\n",
    "print(a)\n",
    "print(\"------------\")\n",
    "\n",
    "print(np.hsplit(a,3)) # Split a into 3\n",
    "print(\"------------\")\n",
    "\n",
    "print(np.hsplit(a,(3,6)))   # Split a after the third and the sixth column"
   ]
  },
  {
   "cell_type": "markdown",
   "metadata": {},
   "source": [
    "## <span style=\"color:#337ab7\">Broadcasting in Numpy</span>\n",
    "\n",
    "* You can perform arithmetic directly on NumPy arrays, such as addition and subtraction.<br>\n",
    "* For example, two arrays can be added together to create a new array where the values at each index are added together. <br>\n",
    "* Strictly, arithmetic may only be performed on arrays that have the same dimensions and dimensions with the same size.<br>\n",
    "* This means that a one-dimensional array with the length of 10 can only perform arithmetic with another one-dimensional array with the length 10.<br>\n",
    "* However, NumPy provides a built-in workaround to allow arithmetic between arrays with differing sizes."
   ]
  },
  {
   "cell_type": "markdown",
   "metadata": {},
   "source": [
    "> Broadcasting solves the problem of arithmetic between arrays of differing shapes by in effect replicating the smaller array<br> along the last mismatched dimension. <br> NumPy does not actually duplicate the smaller array; instead, it makes memory and computationally efficient use of existing structures in memory that in effect achieve the same result"
   ]
  },
  {
   "cell_type": "code",
   "execution_count": 127,
   "metadata": {
    "collapsed": false
   },
   "outputs": [
    {
     "name": "stdout",
     "output_type": "stream",
     "text": [
      "[1 2 3]\n",
      "---------\n",
      "2\n",
      "---------\n",
      "[3 4 5]\n"
     ]
    }
   ],
   "source": [
    "a = np.array([1, 2, 3])\n",
    "print(a); print(\"---------\")\n",
    "b = 2\n",
    "print(b); print(\"---------\")\n",
    "c = a + b\n",
    "print(c)"
   ]
  },
  {
   "cell_type": "code",
   "execution_count": 128,
   "metadata": {
    "collapsed": false
   },
   "outputs": [
    {
     "name": "stdout",
     "output_type": "stream",
     "text": [
      "[[1 2 3]\n",
      " [1 2 3]]\n",
      "---------\n",
      "[1 2 3]\n",
      "---------\n",
      "[[2 4 6]\n",
      " [2 4 6]]\n"
     ]
    }
   ],
   "source": [
    "A = np.array([[1, 2, 3], [1, 2, 3]])\n",
    "print(A)\n",
    "print(\"---------\")\n",
    "b = np.array([1, 2, 3])\n",
    "print(b)\n",
    "print(\"---------\")\n",
    "C = A + b\n",
    "print(C)"
   ]
  },
  {
   "cell_type": "code",
   "execution_count": 129,
   "metadata": {
    "collapsed": false
   },
   "outputs": [
    {
     "name": "stdout",
     "output_type": "stream",
     "text": [
      "(2, 3)\n",
      "---------\n",
      "(2,)\n",
      "---------\n"
     ]
    },
    {
     "ename": "ValueError",
     "evalue": "operands could not be broadcast together with shapes (2,3) (2,) ",
     "output_type": "error",
     "traceback": [
      "\u001b[0;31m---------------------------------------------------------------------------\u001b[0m",
      "\u001b[0;31mValueError\u001b[0m                                Traceback (most recent call last)",
      "\u001b[0;32m<ipython-input-129-c13120a94a0d>\u001b[0m in \u001b[0;36m<module>\u001b[0;34m()\u001b[0m\n\u001b[1;32m      5\u001b[0m \u001b[0mprint\u001b[0m\u001b[1;33m(\u001b[0m\u001b[0mb\u001b[0m\u001b[1;33m.\u001b[0m\u001b[0mshape\u001b[0m\u001b[1;33m)\u001b[0m\u001b[1;33m\u001b[0m\u001b[0m\n\u001b[1;32m      6\u001b[0m \u001b[0mprint\u001b[0m\u001b[1;33m(\u001b[0m\u001b[1;34m\"---------\"\u001b[0m\u001b[1;33m)\u001b[0m\u001b[1;33m\u001b[0m\u001b[0m\n\u001b[0;32m----> 7\u001b[0;31m \u001b[0mC\u001b[0m \u001b[1;33m=\u001b[0m \u001b[0mA\u001b[0m \u001b[1;33m+\u001b[0m \u001b[0mb\u001b[0m\u001b[1;33m\u001b[0m\u001b[0m\n\u001b[0m\u001b[1;32m      8\u001b[0m \u001b[0mprint\u001b[0m\u001b[1;33m(\u001b[0m\u001b[0mC\u001b[0m\u001b[1;33m)\u001b[0m\u001b[1;33m\u001b[0m\u001b[0m\n",
      "\u001b[0;31mValueError\u001b[0m: operands could not be broadcast together with shapes (2,3) (2,) "
     ]
    }
   ],
   "source": [
    "A = np.array([[1, 2, 3], [1, 2, 3]])\n",
    "print(A.shape)\n",
    "print(\"---------\")\n",
    "b = np.array([1, 2])\n",
    "print(b.shape)\n",
    "print(\"---------\")\n",
    "C = A + b\n",
    "print(C)"
   ]
  },
  {
   "cell_type": "markdown",
   "metadata": {
    "collapsed": false
   },
   "source": [
    "## <span style=\"color:#337ab7\">Linear Algebra</span>\n",
    "NumPy package contains <span style=\"color:#337ab7\">numpy.linalg</span> module that provides all the functionality required for linear algebra. <br>Some of the important functions in this module are :\n",
    "* dot : Dot product of the two arrays\n",
    "* determinant : Computes the determinant of the array\n",
    "* matmul : Matrix product of the two arrays\n",
    "* solve :  Solves the linear matrix equation\n",
    "* inv : Finds the multiplicative inverse of the matrix"
   ]
  },
  {
   "cell_type": "code",
   "execution_count": 130,
   "metadata": {
    "collapsed": false
   },
   "outputs": [
    {
     "name": "stdout",
     "output_type": "stream",
     "text": [
      "Rank of A: 3\n",
      "\n",
      "Trace of A: 11\n",
      "\n",
      "Determinant of A: -306.0\n",
      "\n",
      "Inverse of A:\n",
      " [[ 0.17647059 -0.00326797 -0.02287582]\n",
      " [ 0.05882353 -0.13071895  0.08496732]\n",
      " [-0.11764706  0.1503268   0.05228758]]\n",
      "\n",
      "Matrix A raised to power 3:\n",
      " [[336 162 228]\n",
      " [406 162 469]\n",
      " [698 702 905]]\n"
     ]
    }
   ],
   "source": [
    "A = np.array([[6, 1, 1],\n",
    "              [4, -2, 5],\n",
    "              [2, 8, 7]])\n",
    " \n",
    "# Rank of a matrix\n",
    "print(\"Rank of A:\", np.linalg.matrix_rank(A))\n",
    " \n",
    "# Trace of matrix A\n",
    "print(\"\\nTrace of A:\", np.trace(A))\n",
    " \n",
    "# Determinant of a matrix\n",
    "print(\"\\nDeterminant of A:\", np.linalg.det(A))\n",
    " \n",
    "# Inverse of matrix A\n",
    "print(\"\\nInverse of A:\\n\", np.linalg.inv(A))\n",
    " \n",
    "print(\"\\nMatrix A raised to power 3:\\n\",\n",
    "           np.linalg.matrix_power(A, 3))"
   ]
  },
  {
   "cell_type": "code",
   "execution_count": 132,
   "metadata": {
    "collapsed": false
   },
   "outputs": [
    {
     "name": "stdout",
     "output_type": "stream",
     "text": [
      "Array is : [[1 0 0]\n",
      " [0 2 0]\n",
      " [0 0 3]]\n",
      "Eigen value is : [1. 2. 3.]\n",
      "Eigen vectors is : [[1. 0. 0.]\n",
      " [0. 1. 0.]\n",
      " [0. 0. 1.]]\n"
     ]
    }
   ],
   "source": [
    "a = np.diag((1, 2, 3))\n",
    "print(\"Array is :\",a)\n",
    " \n",
    "# calculating an eigen value using eig() function for a square array\n",
    "c, d = np.linalg.eig(a)\n",
    " \n",
    "print(\"Eigen value is :\",c)\n",
    "print(\"Eigen vectors is :\",d)"
   ]
  },
  {
   "cell_type": "code",
   "execution_count": 133,
   "metadata": {
    "collapsed": false
   },
   "outputs": [
    {
     "name": "stdout",
     "output_type": "stream",
     "text": [
      "('Solution of linear equations:', array([2., 3.]))\n"
     ]
    }
   ],
   "source": [
    "a = np.array([[1, 2], [3, 4]])\n",
    "b = np.array([8, 18])\n",
    " \n",
    "print((\"Solution of linear equations:\", \n",
    "      np.linalg.solve(a, b)))"
   ]
  },
  {
   "cell_type": "markdown",
   "metadata": {},
   "source": [
    "## <span style=\"color:#337ab7\">Misc...</span>"
   ]
  },
  {
   "cell_type": "code",
   "execution_count": 134,
   "metadata": {
    "collapsed": false
   },
   "outputs": [
    {
     "name": "stdout",
     "output_type": "stream",
     "text": [
      "[100 120 140 180 150 210 300 320 174  56  90]\n"
     ]
    }
   ],
   "source": [
    "filedata = np.genfromtxt('sampleData.txt', delimiter=',')\n",
    "filedata = filedata.astype('int32')\n",
    "print(filedata)"
   ]
  }
 ],
 "metadata": {
  "anaconda-cloud": {},
  "kernelspec": {
   "display_name": "Python [conda root]",
   "language": "python",
   "name": "conda-root-py"
  },
  "language_info": {
   "codemirror_mode": {
    "name": "ipython",
    "version": 3
   },
   "file_extension": ".py",
   "mimetype": "text/x-python",
   "name": "python",
   "nbconvert_exporter": "python",
   "pygments_lexer": "ipython3",
   "version": "3.5.2"
  }
 },
 "nbformat": 4,
 "nbformat_minor": 1
}
